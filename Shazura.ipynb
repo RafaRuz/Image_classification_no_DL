{
  "nbformat": 4,
  "nbformat_minor": 0,
  "metadata": {
    "colab": {
      "name": "Shazura.ipynb",
      "provenance": [],
      "collapsed_sections": [],
      "mount_file_id": "1MBw31xUwdn-tjGlfR8D6BQ6LiwRQH6iB",
      "authorship_tag": "ABX9TyOkE7nldusVlcvTeDqLSP8a",
      "include_colab_link": true
    },
    "kernelspec": {
      "name": "python3",
      "display_name": "Python 3"
    },
    "language_info": {
      "name": "python"
    }
  },
  "cells": [
    {
      "cell_type": "markdown",
      "metadata": {
        "id": "view-in-github",
        "colab_type": "text"
      },
      "source": [
        "<a href=\"https://colab.research.google.com/github/RafaRuz/Image_classification_no_DL/blob/main/Shazura.ipynb\" target=\"_parent\"><img src=\"https://colab.research.google.com/assets/colab-badge.svg\" alt=\"Open In Colab\"/></a>"
      ]
    },
    {
      "cell_type": "code",
      "source": [
        "!git clone https://github.com/RafaRuz/Image_classification_no_DL"
      ],
      "metadata": {
        "colab": {
          "base_uri": "https://localhost:8080/"
        },
        "id": "QJb9uoxhEqtz",
        "outputId": "4d32eb43-7257-4398-ab5e-606ed7d0b6cc"
      },
      "execution_count": 1,
      "outputs": [
        {
          "output_type": "stream",
          "name": "stdout",
          "text": [
            "fatal: destination path 'Image_classification_no_DL' already exists and is not an empty directory.\n"
          ]
        }
      ]
    },
    {
      "cell_type": "code",
      "source": [
        "data_dir = 'Image_classification_no_DL/data/'"
      ],
      "metadata": {
        "id": "FWUAoac6-8gx"
      },
      "execution_count": 2,
      "outputs": []
    },
    {
      "cell_type": "markdown",
      "source": [
        "# Introduction"
      ],
      "metadata": {
        "id": "TlF9UHcEP__Y"
      }
    },
    {
      "cell_type": "markdown",
      "source": [
        "This notebooks aims to develop an image classifier that allows us to classify images into 4 different classes or categories: Fog, Rain, Sand and Snow.\n",
        "\n",
        "The source dataset is going to be DAWN (Detection in Adverse Weather Nature), which contains around one thousand images.\n",
        "\n",
        "In this approach we are not going to use deep learning. The approach will be as follows:\n",
        "1. **Dataset loading**\n",
        "2. **EDA (Exploratory Data Analysis)**\n",
        "  - View some sample images\n",
        "  - Inspect dimensions, channels and formats\n",
        "3. **Preprocessing**\n",
        "  - Encode labels\n",
        "4. **Feature engineering**\n",
        "  - **RGB features**: We are going to extract the mean and standard deviation values from the rgb channels. The idea in here is that some weather scenarios may have more presence in different channels, like sand is going to have more red, fog could have more blue, etc.\n",
        "  -**Grayscale features**: We are going to extract mean, standard deviation, min, max, skewness and kurtosis. Same idea for the first ones. Skewness can help identyfing asymmetry. Kurtosis is related to how condensed the values are around the mean and so it can help identify pictures with low/high contrast.\n",
        "  -**HSV features**: Mean and standard deviation. Same idea than with RGB, but now we have Hue, Saturation and Value that are related related to brigthness, contrast, etc.\n",
        "  -**PSD histogram**: Power Spectral Density uses Fourier Transform to transform the image into Frequency Domain. From that, we can get the cummulative amplitude of the signals in a certain frequency. The histogram of these frequencies give us information about which frequencies are more present in the image. Extracting features from the frequency domain is really useful since high frequencies are associated to edges and low frequencies to the \"background\". So again, it can help identify blurry images in situations like fog.\n",
        "  -**Texture features (GLCM)**: Gray Level Co-ocurrence Matrix can help us extracting different features like contrast, dissimilarity, homogeneity, ASM, energy and correlation. These features are extracted along different angles and pixel distances and can help identifying textures. The ideal situation is to apply this to patches instead of the whole image after segmenting the image.\n",
        "  -**Contours**:\n",
        "  -**Noise features (Laplace filter)**: This filter is a high pass filter and so it's an edge detection filter. If we apply the convolutional filter to the image and the calculate the standard deviation, we can see how edgy the image is.\n",
        "\n",
        "5. **Dataset processing**: Extract all the features previously described\n",
        "6. **Classifier training and testing**\n",
        "7. **Feature selection**\n",
        "8. **Hyper parameter tuning**"
      ],
      "metadata": {
        "id": "2JhMuPxgQB3x"
      }
    },
    {
      "cell_type": "markdown",
      "source": [
        "# Packages"
      ],
      "metadata": {
        "id": "kYBYKe6ugEUg"
      }
    },
    {
      "cell_type": "code",
      "source": [
        "# !pip install scikit-image"
      ],
      "metadata": {
        "id": "nUOg8n40RDIw"
      },
      "execution_count": 3,
      "outputs": []
    },
    {
      "cell_type": "code",
      "execution_count": 4,
      "metadata": {
        "id": "ZAyJteJbjRTw"
      },
      "outputs": [],
      "source": [
        "import os\n",
        "import glob\n",
        "import matplotlib.image as mpimg\n",
        "import matplotlib.pyplot as plt\n",
        "import seaborn as sn\n",
        "import cv2\n",
        "\n",
        "from sklearn.model_selection import train_test_split\n",
        "from sklearn.preprocessing import LabelEncoder\n",
        "from sklearn.linear_model import LinearRegression\n",
        "\n",
        "import numpy as np\n",
        "from scipy.stats import kurtosis, skew\n",
        "import math\n",
        "import matplotlib\n",
        "import matplotlib.pyplot as plt\n",
        "\n",
        "from skimage.feature import greycomatrix, greycoprops\n"
      ]
    },
    {
      "cell_type": "markdown",
      "source": [
        "# Load dataset"
      ],
      "metadata": {
        "id": "SVGjSUlDgLzM"
      }
    },
    {
      "cell_type": "code",
      "source": [
        "def load_dataset(image_dir):\n",
        "    '''This function loads in images and their labels and places them in a list\n",
        "    im_list[0][:] will be the first image-label pair in the list'''\n",
        "    \n",
        "    im_list = []\n",
        "    image_types = [\"Fog\", \"Rain\", \"Sand\", \"Snow\"]\n",
        "    \n",
        "    # Iterate through each color folder\n",
        "    for im_type in image_types:\n",
        "        \n",
        "        # Iterate through each image file in each image_type folder\n",
        "        # glob reads in any image with the extension \"image_dir/im_type/*\"\n",
        "        for file in glob.glob(os.path.join(image_dir, im_type, \"*.jpg\")):\n",
        "            \n",
        "            # Read in the image\n",
        "            im = mpimg.imread(file)\n",
        "            im = np.array(im, dtype=np.uint8)\n",
        "            \n",
        "            # Check if the image exists/if it's been correctly read-in\n",
        "            if not im is None:\n",
        "                # Append the image, and it's type to the image list\n",
        "                im_list.append((im, im_type))\n",
        "    \n",
        "    return np.array(im_list)"
      ],
      "metadata": {
        "id": "V_-G-C_hqRch"
      },
      "execution_count": 5,
      "outputs": []
    },
    {
      "cell_type": "code",
      "source": [
        "# from google.colab import drive\n",
        "# drive.mount('/content/drive')\n",
        "\n",
        "# # Change directory to the dataset\n",
        "# %cd /content/drive/My Drive/Shazura/\n",
        "\n",
        "# Load the dataset\n",
        "image_list = load_dataset(data_dir)\n",
        "\n",
        "# Show sample image\n",
        "plt.imshow(image_list[0][0]);"
      ],
      "metadata": {
        "colab": {
          "base_uri": "https://localhost:8080/",
          "height": 293
        },
        "id": "_dS3Gbs4ql-e",
        "outputId": "4cb0d2fd-d4de-4370-b63c-f27fc7baa7a9"
      },
      "execution_count": 6,
      "outputs": [
        {
          "output_type": "stream",
          "name": "stderr",
          "text": [
            "/usr/local/lib/python3.7/dist-packages/ipykernel_launcher.py:24: VisibleDeprecationWarning: Creating an ndarray from ragged nested sequences (which is a list-or-tuple of lists-or-tuples-or ndarrays with different lengths or shapes) is deprecated. If you meant to do this, you must specify 'dtype=object' when creating the ndarray.\n"
          ]
        },
        {
          "output_type": "display_data",
          "data": {
            "text/plain": [
              "<Figure size 432x288 with 1 Axes>"
            ],
            "image/png": "[encoded data removed]"
          },
          "metadata": {
            "needs_background": "light"
          }
        }
      ]
    },
    {
      "cell_type": "code",
      "source": [
        "# Number of images in each category\n",
        "unique, counts = np.unique(image_list[:,1], return_counts=True)\n",
        "label_count = dict(zip(unique, counts))\n",
        "label_count"
      ],
      "metadata": {
        "colab": {
          "base_uri": "https://localhost:8080/"
        },
        "id": "57S6cbjnweGP",
        "outputId": "4887daad-350c-4af0-ba64-eff90931970b"
      },
      "execution_count": 7,
      "outputs": [
        {
          "output_type": "execute_result",
          "data": {
            "text/plain": [
              "{'Fog': 300, 'Rain': 200, 'Sand': 323, 'Snow': 204}"
            ]
          },
          "metadata": {},
          "execution_count": 7
        }
      ]
    },
    {
      "cell_type": "markdown",
      "source": [
        "# Preprocessing"
      ],
      "metadata": {
        "id": "1rz2UPVLNk5A"
      }
    },
    {
      "cell_type": "code",
      "source": [
        "# Separate images from labels\n",
        "le = LabelEncoder()\n",
        "\n",
        "images = image_list[:,0]\n",
        "labels_str = image_list[:,1]\n",
        "labels = le.fit_transform(labels_str)"
      ],
      "metadata": {
        "id": "AJZI-R5_9-Pg"
      },
      "execution_count": 8,
      "outputs": []
    },
    {
      "cell_type": "code",
      "source": [
        "# Split dataset into training and test subsets\n",
        "X_train, X_test, y_train, y_test = train_test_split(images, labels, test_size=0.9, \n",
        "                                                    random_state=0, stratify=labels)"
      ],
      "metadata": {
        "id": "kFZBhGCb-BsP"
      },
      "execution_count": 9,
      "outputs": []
    },
    {
      "cell_type": "code",
      "source": [
        "# Check the number of samples from each category in the training set\n",
        "unique_train, counts_train = np.unique(y_train, return_counts=True)\n",
        "train_label_count = dict(zip(unique_train, counts_train))\n",
        "train_label_count"
      ],
      "metadata": {
        "colab": {
          "base_uri": "https://localhost:8080/"
        },
        "id": "akw84jqt-Cs6",
        "outputId": "8837a5a6-5753-445f-a2a7-fb5ad46b3900"
      },
      "execution_count": 10,
      "outputs": [
        {
          "output_type": "execute_result",
          "data": {
            "text/plain": [
              "{0: 30, 1: 20, 2: 32, 3: 20}"
            ]
          },
          "metadata": {},
          "execution_count": 10
        }
      ]
    },
    {
      "cell_type": "code",
      "source": [
        "# Crop images\n",
        "def crop(image):\n",
        "    y_nonzero, x_nonzero, _ = np.nonzero(image)\n",
        "    return image[np.min(y_nonzero):np.max(y_nonzero), np.min(x_nonzero):np.max(x_nonzero)]\n",
        "\n",
        "for i,img in enumerate(images):\n",
        "  if np.issubdtype(type(img[0,0]), np.integer):\n",
        "    if img[0,0] == 0:\n",
        "      images[i] = crop(img)\n",
        "  else:\n",
        "    if img[0,0].sum() == 0:\n",
        "      images[i] = crop(img)"
      ],
      "metadata": {
        "id": "c1w-C0cE5o8g"
      },
      "execution_count": 11,
      "outputs": []
    },
    {
      "cell_type": "markdown",
      "source": [
        "# Feature engineering"
      ],
      "metadata": {
        "id": "-CrqyCIr5KyB"
      }
    },
    {
      "cell_type": "markdown",
      "source": [
        "### Average brightness"
      ],
      "metadata": {
        "id": "BwTwbJtoOkUE"
      }
    },
    {
      "cell_type": "code",
      "source": [
        "# # Included in HSV features\n",
        "# def avg_brightness(img):\n",
        "#   if len(img.shape) == 3:\n",
        "#     # Convert image to HSV\n",
        "#     hsv = cv2.cvtColor(img, cv2.COLOR_RGB2HSV)\n",
        "\n",
        "#     # Add up all the pixel values in the V channel\n",
        "#     sum_brightness = np.sum(hsv[:,:,2])\n",
        "#     area = img.shape[0]* img.shape[1]\n",
        "\n",
        "#     # find the avg\n",
        "#     avg = sum_brightness/area\n",
        "#   else:\n",
        "#     avg = cv2.mean(img)[0]\n",
        "    \n",
        "#   return avg"
      ],
      "metadata": {
        "id": "US5oPevBOmrA"
      },
      "execution_count": 12,
      "outputs": []
    },
    {
      "cell_type": "markdown",
      "source": [
        "### RGB features"
      ],
      "metadata": {
        "id": "SRNNIa8EWFhg"
      }
    },
    {
      "cell_type": "code",
      "source": [
        "def rgb_statistical_features(img):\n",
        "  if len(img.shape) == 2:\n",
        "    img = cv2.cvtColor(img, cv2.COLOR_GRAY2RGB)\n",
        "\n",
        "  if len(img.shape) == 3 and img.shape[2] == 4:\n",
        "   img = cv2.cvtColor(img, cv2.COLOR_RGBA2RGB)\n",
        "    \n",
        "  mean, std = cv2.meanStdDev(img)\n",
        "  \n",
        "  return mean.flatten().tolist() +  std.flatten().tolist()"
      ],
      "metadata": {
        "id": "1IWLIhf_WIou"
      },
      "execution_count": 13,
      "outputs": []
    },
    {
      "cell_type": "markdown",
      "source": [
        "### Grayscale features"
      ],
      "metadata": {
        "id": "hvhzn_z_W09F"
      }
    },
    {
      "cell_type": "code",
      "source": [
        "def grayscale_statistical_features(img):\n",
        "  if len(img.shape) == 3 and img.shape[2] == 4:\n",
        "   img = cv2.cvtColor(img, cv2.COLOR_RGBA2GRAY)\n",
        "\n",
        "  if len(img.shape) == 3:\n",
        "    img = cv2.cvtColor(img, cv2.COLOR_RGB2GRAY)\n",
        "\n",
        "  min = img.min()\n",
        "  max = img.max()\n",
        "  mean = img.mean()\n",
        "  std = img.std()\n",
        "  skewness = skew(img, axis=None)\n",
        "  kurt = kurtosis(img, axis=None)\n",
        "    \n",
        "  return [min, max, mean, std, skewness, kurt]"
      ],
      "metadata": {
        "id": "GjpqOTiCXBwO"
      },
      "execution_count": 14,
      "outputs": []
    },
    {
      "cell_type": "markdown",
      "source": [
        "### HSV features"
      ],
      "metadata": {
        "id": "LEAlpNSPgsss"
      }
    },
    {
      "cell_type": "code",
      "source": [
        "def hsv_statistical_features(img):\n",
        "  if len(img.shape) == 3 and img.shape[2] == 4:\n",
        "   img = cv2.cvtColor(img, cv2.COLOR_RGBA2RGB)\n",
        "   img = cv2.cvtColor(img, cv2.COLOR_RGB2HSV)\n",
        "\n",
        "  if len(img.shape) == 3:\n",
        "    image = cv2.cvtColor(img, cv2.COLOR_RGB2HSV)\n",
        "  else:\n",
        "    image = cv2.cvtColor(img, cv2.COLOR_GRAY2RGB)\n",
        "    image = cv2.cvtColor(image, cv2.COLOR_RGB2HSV)\n",
        "    \n",
        "  # avg = [cv2.mean(image)[0]]*3\n",
        "  mean, std = cv2.meanStdDev(image)\n",
        "    \n",
        "  # return avg\n",
        "  return mean.flatten().tolist() +  std.flatten().tolist()"
      ],
      "metadata": {
        "id": "TmL-MXDlgtRS"
      },
      "execution_count": 15,
      "outputs": []
    },
    {
      "cell_type": "markdown",
      "source": [
        "### HSV Saturation histogram"
      ],
      "metadata": {
        "id": "K0M57CWSn9ra"
      }
    },
    {
      "cell_type": "code",
      "source": [
        "def saturation_histogram_feature(img, nbins=10):\n",
        "  if len(img.shape) == 3 and img.shape[2] == 4:\n",
        "   img = cv2.cvtColor(img, cv2.COLOR_RGBA2RGB)\n",
        "   img = cv2.cvtColor(img, cv2.COLOR_RGB2HSV)\n",
        "\n",
        "  if len(img.shape) == 3:\n",
        "    img = cv2.cvtColor(img, cv2.COLOR_RGB2HSV)\n",
        "  else:\n",
        "    img = cv2.cvtColor(img, cv2.COLOR_GRAY2RGB)\n",
        "    img = cv2.cvtColor(img, cv2.COLOR_RGB2HSV)\n",
        "\n",
        "  hist = cv2.calcHist([img], [2], None, [nbins], (0,255))\n",
        "\n",
        "  return hist.flatten().tolist()"
      ],
      "metadata": {
        "id": "vQ7kBevgn-Mr"
      },
      "execution_count": 16,
      "outputs": []
    },
    {
      "cell_type": "markdown",
      "source": [
        "### PSD"
      ],
      "metadata": {
        "id": "u8BQmL77fqUL"
      }
    },
    {
      "cell_type": "code",
      "source": [
        "def PSD_slope_intercept(img):\n",
        "  if len(img.shape) == 3 and img.shape[2] == 4:\n",
        "   img = cv2.cvtColor(img, cv2.COLOR_RGBA2GRAY)\n",
        "\n",
        "  if len(img.shape) == 3:\n",
        "    img = cv2.cvtColor(img, cv2.COLOR_RGB2GRAY)\n",
        "\n",
        "  ## Fourier Transform along the first axis\n",
        "  # Round up the size along this axis to an even number\n",
        "  n = int( math.ceil(img.shape[0] / 2.) * 2 )\n",
        "\n",
        "  # We use rfft since we are processing real values\n",
        "  a = np.fft.rfft(img,n, axis=0)\n",
        "\n",
        "  # Sum power along the second axis\n",
        "  a = a.real*a.real + a.imag*a.imag\n",
        "  a = a.sum(axis=1)/a.shape[1]\n",
        "\n",
        "  # Generate a list of frequencies\n",
        "  f = np.fft.rfftfreq(n)\n",
        "\n",
        "  # Graph it\n",
        "  # plt.figure()\n",
        "  # plt.plot(f[1:],a[1:], label = 'sum of amplitudes over y vs f_x')\n",
        "\n",
        "  # Slope and intercept in log-log scale\n",
        "  X = np.log(f[8:].reshape(len(f[8:]), 1))\n",
        "  y = np.log(a[8:])\n",
        "  reg = LinearRegression().fit(X, y)\n",
        "  slope_first_axis = reg.coef_\n",
        "  intercept_first_axis = reg.intercept_\n",
        "\n",
        "\n",
        "  ## Fourier Transform along the second axis\n",
        "  # Same steps as above\n",
        "  n = int( math.ceil(img.shape[1] / 2.) * 2 )\n",
        "\n",
        "  a = np.fft.rfft(img,n,axis=1)\n",
        "\n",
        "  a = a.real*a.real + a.imag*a.imag\n",
        "  a = a.sum(axis=0)/a.shape[0]\n",
        "\n",
        "  f = np.fft.rfftfreq(n)\n",
        "\n",
        "  # plt.plot(f[8:],a[8:],  label ='sum of amplitudes over x vs f_y')\n",
        "  # plt.ylabel( 'amplitude' )\n",
        "  # plt.xlabel( 'frequency' )\n",
        "  # plt.yscale( 'log' )\n",
        "  # plt.legend()\n",
        "  # plt.show()\n",
        "\n",
        "  # Slope and intercept in log-log scale\n",
        "  X = np.log(f[8:].reshape(len(f[8:]), 1))\n",
        "  y = np.log(a[8:])\n",
        "  reg = LinearRegression().fit(X, y)\n",
        "  slope_second_axis = reg.coef_\n",
        "  intercept_second_axis = reg.intercept_\n",
        "\n",
        "  return [slope_first_axis[0], intercept_first_axis, slope_second_axis[0], intercept_second_axis]"
      ],
      "metadata": {
        "id": "1Kg0E-GjeKmr"
      },
      "execution_count": 17,
      "outputs": []
    },
    {
      "cell_type": "code",
      "source": [
        "def PSD_histogram(img):\n",
        "  if len(img.shape) == 3 and img.shape[2] == 4:\n",
        "    img = cv2.cvtColor(img, cv2.COLOR_RGBA2GRAY)\n",
        "\n",
        "  if len(img.shape) == 3:\n",
        "    img = cv2.cvtColor(img, cv2.COLOR_RGB2GRAY)\n",
        "\n",
        "  ## Fourier Transform along the first axis\n",
        "  # Round up the size along this axis to an even number\n",
        "  # n = int( math.ceil(img.shape[0] / 2.) * 2 )\n",
        "  n = 29 # 15 bins\n",
        "\n",
        "  # We use rfft since we are processing real values\n",
        "  a = np.fft.rfft(img,n, axis=0)\n",
        "\n",
        "  # Sum power along the second axis\n",
        "  a = a.real*a.real + a.imag*a.imag\n",
        "  a = a.sum(axis=1)/a.shape[1]\n",
        "\n",
        "  # Generate a list of frequencies\n",
        "  f = np.fft.rfftfreq(n)\n",
        "\n",
        "  # Graph it\n",
        "  # plt.figure()\n",
        "  # plt.plot(f[1:],a[1:], label = 'sum of amplitudes over y vs f_x')\n",
        "\n",
        "  ## Fourier Transform along the second axis\n",
        "  # Same steps as above\n",
        "  # n = int( math.ceil(img.shape[1] / 2.) * 2 )\n",
        "  n = 29 # 15 bins\n",
        "\n",
        "  a2 = np.fft.rfft(img,n,axis=1)\n",
        "\n",
        "  a2 = a2.real*a2.real + a2.imag*a2.imag\n",
        "  a2 = a2.sum(axis=0)/a2.shape[0]\n",
        "\n",
        "  f = np.fft.rfftfreq(n)\n",
        "\n",
        "  # plt.plot(f[1:],a2[1:],  label ='sum of amplitudes over x vs f_y')\n",
        "  # plt.ylabel( 'amplitude' )\n",
        "  # plt.xlabel( 'frequency' )\n",
        "  # plt.yscale( 'log' )\n",
        "  # plt.xscale( 'log' )\n",
        "  # plt.legend()\n",
        "  # plt.show()\n",
        "\n",
        "  # Slope and intercept in log-log scale\n",
        "  # X = np.log(f[1:].reshape(len(f[1:]), 1))\n",
        "  # y = np.log(a[1:])\n",
        "  # reg = LinearRegression().fit(X, y)\n",
        "  # slope_second_axis = reg.coef_\n",
        "  # intercept_second_axis = reg.intercept_\n",
        "  \n",
        "  # return np.concatenate([a/a.sum(), a2/a2.sum()]).tolist()\n",
        "  return np.concatenate([a, a2]).tolist()"
      ],
      "metadata": {
        "id": "EAYHjGsxoTCA"
      },
      "execution_count": 18,
      "outputs": []
    },
    {
      "cell_type": "markdown",
      "source": [
        "### Contrast features (GLCM)"
      ],
      "metadata": {
        "id": "EyR-Hs-rf6ae"
      }
    },
    {
      "cell_type": "code",
      "source": [
        "def contrast_features(img):\n",
        "  if len(img.shape) == 3 and img.shape[2] == 4:\n",
        "   img = cv2.cvtColor(img, cv2.COLOR_RGBA2GRAY)\n",
        "\n",
        "  if len(img.shape) == 3:\n",
        "    img = cv2.cvtColor(img, cv2.COLOR_RGB2GRAY)\n",
        "\n",
        "  GLCM = greycomatrix(img, [1, 3, 5], [0, np.pi/4, np.pi/2, 3*np.pi/4])\n",
        "  contrast = greycoprops(GLCM, 'contrast').flatten()\n",
        "  dissimilarity = greycoprops(GLCM, 'dissimilarity').flatten()\n",
        "  homogeneity = greycoprops(GLCM, 'homogeneity').flatten()\n",
        "  ASM = greycoprops(GLCM, 'ASM').flatten()\n",
        "  energy = greycoprops(GLCM, 'energy').flatten()\n",
        "  correlation = greycoprops(GLCM, 'correlation').flatten()\n",
        "\n",
        "  return np.concatenate([contrast, dissimilarity, homogeneity, ASM, energy, correlation]).tolist()"
      ],
      "metadata": {
        "id": "Dxfigsm3f5hz"
      },
      "execution_count": 19,
      "outputs": []
    },
    {
      "cell_type": "markdown",
      "source": [
        "### Contours"
      ],
      "metadata": {
        "id": "8_SrJCZPgaSf"
      }
    },
    {
      "cell_type": "code",
      "source": [
        "# img = images[0]\n",
        "# img = cv2.cvtColor(img, cv2.COLOR_RGB2GRAY)\n",
        "# edges = cv2.Canny(img,100,200)\n",
        "\n",
        "# contours = cv2.findContours(edges, cv2.RETR_EXTERNAL, cv2.CHAIN_APPROX_SIMPLE)\n",
        "# cv2.drawContours(img, contours[0], -1, (0,255,0), thickness = 2)\n",
        "# fig, ax = plt.subplots(1, figsize=(12,8))\n",
        "# plt.imshow(img, 'gray')"
      ],
      "metadata": {
        "id": "Venu8dAWgaAV"
      },
      "execution_count": 20,
      "outputs": []
    },
    {
      "cell_type": "markdown",
      "source": [
        "### Noise features (Laplace filter)"
      ],
      "metadata": {
        "id": "uSS576RQVRGt"
      }
    },
    {
      "cell_type": "code",
      "source": [
        "def laplacian_std(img):\n",
        "  if len(img.shape) == 3 and img.shape[2] == 4:\n",
        "   img = cv2.cvtColor(img, cv2.COLOR_RGBA2GRAY)\n",
        "   \n",
        "  if len(img.shape) == 3:\n",
        "    img = cv2.cvtColor(img, cv2.COLOR_RGB2GRAY)\n",
        "\n",
        "  return np.sqrt(cv2.Laplacian(img, cv2.CV_64F).var())"
      ],
      "metadata": {
        "id": "ZmnIpBWGVQ3m"
      },
      "execution_count": 21,
      "outputs": []
    },
    {
      "cell_type": "markdown",
      "source": [
        "### Image segmentation features"
      ],
      "metadata": {
        "id": "A2mTWDqggg7h"
      }
    },
    {
      "cell_type": "code",
      "source": [
        "# i=1000\n",
        "# imgray = cv2.cvtColor(images[i], cv2.COLOR_RGB2GRAY)\n",
        "# ret, thresh = cv2.threshold(imgray, 127, 255, 0)\n",
        "# contours, hierarchy = cv2.findContours(thresh, cv2.RETR_TREE, cv2.CHAIN_APPROX_SIMPLE)\n",
        "# plt.imshow(cv2.drawContours(images[i], contours, -1, (0,255,0), 3))"
      ],
      "metadata": {
        "id": "_4irJ0v-gkoM"
      },
      "execution_count": 22,
      "outputs": []
    },
    {
      "cell_type": "markdown",
      "source": [
        "## Dataset processing\n"
      ],
      "metadata": {
        "id": "izKgrbHJ4KrQ"
      }
    },
    {
      "cell_type": "code",
      "source": [
        "X_train_features = []\n",
        "\n",
        "for i, img in enumerate(X_train):\n",
        "  # print(i)\n",
        "\n",
        "  # Extract features\n",
        "  features = []\n",
        "\n",
        "  # features.append(avg_brightness(img))\n",
        "  features.extend(grayscale_statistical_features(img))\n",
        "  features.extend(rgb_statistical_features(img))\n",
        "  features.extend(hsv_statistical_features(img))\n",
        "  features.extend(saturation_histogram_feature(img))\n",
        "  features.extend(PSD_slope_intercept(img))\n",
        "  features.extend(PSD_histogram(img))\n",
        "  features.extend(contrast_features(img))\n",
        "  features.append(laplacian_std(img))\n",
        "\n",
        "  X_train_features.append(features)\n",
        "\n",
        "X_train_features = np.asarray(X_train_features)"
      ],
      "metadata": {
        "id": "ew_Gb4YJ4Rux"
      },
      "execution_count": 23,
      "outputs": []
    },
    {
      "cell_type": "code",
      "source": [
        "X_test_features = []\n",
        "\n",
        "for i, img in enumerate(X_test):\n",
        "  # Extract features\n",
        "  features = []\n",
        "\n",
        "  # features.append(avg_brightness(img))\n",
        "  features.extend(grayscale_statistical_features(img))\n",
        "  features.extend(rgb_statistical_features(img))\n",
        "  features.extend(hsv_statistical_features(img))\n",
        "  features.extend(saturation_histogram_feature(img))\n",
        "  features.extend(PSD_slope_intercept(img))\n",
        "  features.extend(PSD_histogram(img))\n",
        "  features.extend(contrast_features(img))\n",
        "  features.append(laplacian_std(img))\n",
        "\n",
        "  X_test_features.append(features)\n",
        "\n",
        "X_test_features = np.asarray(X_test_features)"
      ],
      "metadata": {
        "id": "3P_KiHPXJYCN"
      },
      "execution_count": 24,
      "outputs": []
    },
    {
      "cell_type": "markdown",
      "source": [
        "# Training and testing model"
      ],
      "metadata": {
        "id": "KkF3aCKa4D1m"
      }
    },
    {
      "cell_type": "code",
      "source": [
        "from sklearn.svm import SVC\n",
        "from sklearn.ensemble import GradientBoostingClassifier, RandomForestClassifier\n",
        "from sklearn.metrics import accuracy_score, confusion_matrix, classification_report, roc_auc_score\n",
        "\n",
        "# clf = SVC()\n",
        "# clf = GradientBoostingClassifier()\n",
        "clf = RandomForestClassifier()\n",
        " \n",
        "clf.fit(X_train_features, y_train)\n",
        "print(f'Accuracy: {accuracy_score(y_test, clf.predict(X_test_features))}')\n",
        "print(f'ROC AUC score: {roc_auc_score(y_test, clf.predict_proba(X_test_features), multi_class=\"ovr\")}')\n",
        "# print(clf.feature_importances_)\n",
        "print(classification_report(le.inverse_transform(y_test), le.inverse_transform(clf.predict(X_test_features))))\n",
        "\n",
        "plt.figure()\n",
        "plt.title('Confussion matrix')\n",
        "sn.heatmap(confusion_matrix(y_test, clf.predict(X_test_features)), annot=True, fmt='g',\n",
        "           xticklabels=le.inverse_transform([0,1,2,3]), yticklabels=le.inverse_transform([0,1,2,3]))\n",
        "plt.xlabel('Predicted label')\n",
        "plt.ylabel('True label')\n",
        "plt.show()"
      ],
      "metadata": {
        "colab": {
          "base_uri": "https://localhost:8080/",
          "height": 521
        },
        "id": "-it92V2B4DSI",
        "outputId": "b6db00b0-4a54-46ee-b9bd-4b89f91e6867"
      },
      "execution_count": 25,
      "outputs": [
        {
          "output_type": "stream",
          "name": "stdout",
          "text": [
            "Accuracy: 0.667027027027027\n",
            "ROC AUC score: 0.8558975037221467\n",
            "              precision    recall  f1-score   support\n",
            "\n",
            "         Fog       0.64      0.62      0.63       270\n",
            "        Rain       0.52      0.61      0.56       180\n",
            "        Sand       0.77      0.74      0.75       291\n",
            "        Snow       0.72      0.68      0.70       184\n",
            "\n",
            "    accuracy                           0.67       925\n",
            "   macro avg       0.66      0.66      0.66       925\n",
            "weighted avg       0.67      0.67      0.67       925\n",
            "\n"
          ]
        },
        {
          "output_type": "display_data",
          "data": {
            "text/plain": [
              "<Figure size 432x288 with 2 Axes>"
            ],
            "image/png": "[encoded data removed]"
          },
          "metadata": {
            "needs_background": "light"
          }
        }
      ]
    },
    {
      "cell_type": "markdown",
      "source": [
        "# Feature selection"
      ],
      "metadata": {
        "id": "8qzgFAreiqYv"
      }
    },
    {
      "cell_type": "code",
      "source": [
        "# Select the variables that have the most discrimination power"
      ],
      "metadata": {
        "id": "KtXzT5h-irgG"
      },
      "execution_count": 26,
      "outputs": []
    },
    {
      "cell_type": "markdown",
      "source": [
        "# Model hyperparameter tuning"
      ],
      "metadata": {
        "id": "iisdohRRi8bq"
      }
    },
    {
      "cell_type": "code",
      "source": [
        "# Grid search for parameter hypertuning"
      ],
      "metadata": {
        "id": "PHPeDmkLi7zd"
      },
      "execution_count": 27,
      "outputs": []
    }
  ]
}